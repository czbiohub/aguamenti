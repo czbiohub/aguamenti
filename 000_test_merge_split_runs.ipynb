{
 "cells": [
  {
   "cell_type": "code",
   "execution_count": 1,
   "metadata": {},
   "outputs": [
    {
     "name": "stdout",
     "output_type": "stream",
     "text": [
      "000_test_merge_split_runs.ipynb\r\n",
      "HISTORY.md\r\n",
      "LICENSE\r\n",
      "MANIFEST.in\r\n",
      "Makefile\r\n",
      "README.md\r\n",
      "\u001b[1m\u001b[36maguamenti\u001b[m\u001b[m/\r\n",
      "\u001b[1m\u001b[36maguamenti.egg-info\u001b[m\u001b[m/\r\n",
      "conda_requirements.txt\r\n",
      "\u001b[1m\u001b[36mdocs\u001b[m\u001b[m/\r\n",
      "requirements.txt\r\n",
      "setup.cfg\r\n",
      "\u001b[31msetup.py\u001b[m\u001b[m*\r\n",
      "\u001b[1m\u001b[36mubuntu@ec2-34-222-22-42.us-west-2.compute.amazonaws.com\u001b[m\u001b[m/\r\n",
      "\u001b[1m\u001b[36mubuntu@shayanhoss-reflow2\u001b[m\u001b[m/\r\n"
     ]
    }
   ],
   "source": [
    "ls"
   ]
  },
  {
   "cell_type": "code",
   "execution_count": 2,
   "metadata": {},
   "outputs": [
    {
     "name": "stdout",
     "output_type": "stream",
     "text": [
      "(17664, 6)\n"
     ]
    },
    {
     "data": {
      "text/html": [
       "<div>\n",
       "<style scoped>\n",
       "    .dataframe tbody tr th:only-of-type {\n",
       "        vertical-align: middle;\n",
       "    }\n",
       "\n",
       "    .dataframe tbody tr th {\n",
       "        vertical-align: top;\n",
       "    }\n",
       "\n",
       "    .dataframe thead th {\n",
       "        text-align: right;\n",
       "    }\n",
       "</style>\n",
       "<table border=\"1\" class=\"dataframe\">\n",
       "  <thead>\n",
       "    <tr style=\"text-align: right;\">\n",
       "      <th></th>\n",
       "      <th>read1</th>\n",
       "      <th>read2</th>\n",
       "      <th>name</th>\n",
       "      <th>genome</th>\n",
       "      <th>output</th>\n",
       "      <th>region</th>\n",
       "    </tr>\n",
       "    <tr>\n",
       "      <th>id</th>\n",
       "      <th></th>\n",
       "      <th></th>\n",
       "      <th></th>\n",
       "      <th></th>\n",
       "      <th></th>\n",
       "      <th></th>\n",
       "    </tr>\n",
       "  </thead>\n",
       "  <tbody>\n",
       "    <tr>\n",
       "      <th>A1-MAA000398-3_9_M-1-1</th>\n",
       "      <td>s3://czb-maca/Plate_seq/3_month/170910_A00111_...</td>\n",
       "      <td>s3://czb-maca/Plate_seq/3_month/170910_A00111_...</td>\n",
       "      <td>A1-MAA000398-3_9_M-1-1</td>\n",
       "      <td>mouse/vM19</td>\n",
       "      <td>s3://czb-maca/Plate_seq/3_month/results_realigned</td>\n",
       "      <td>west</td>\n",
       "    </tr>\n",
       "    <tr>\n",
       "      <th>A1-MAA000409-3_10_M-1-1</th>\n",
       "      <td>s3://czb-maca/Plate_seq/3_month/170910_A00111_...</td>\n",
       "      <td>s3://czb-maca/Plate_seq/3_month/170910_A00111_...</td>\n",
       "      <td>A1-MAA000409-3_10_M-1-1</td>\n",
       "      <td>mouse/vM19</td>\n",
       "      <td>s3://czb-maca/Plate_seq/3_month/results_realigned</td>\n",
       "      <td>west</td>\n",
       "    </tr>\n",
       "    <tr>\n",
       "      <th>A1-MAA000487-3_10_M-1-1</th>\n",
       "      <td>s3://czb-maca/Plate_seq/3_month/170910_A00111_...</td>\n",
       "      <td>s3://czb-maca/Plate_seq/3_month/170910_A00111_...</td>\n",
       "      <td>A1-MAA000487-3_10_M-1-1</td>\n",
       "      <td>mouse/vM19</td>\n",
       "      <td>s3://czb-maca/Plate_seq/3_month/results_realigned</td>\n",
       "      <td>west</td>\n",
       "    </tr>\n",
       "    <tr>\n",
       "      <th>A1-MAA000560-3_10_M-1-1</th>\n",
       "      <td>s3://czb-maca/Plate_seq/3_month/170910_A00111_...</td>\n",
       "      <td>s3://czb-maca/Plate_seq/3_month/170910_A00111_...</td>\n",
       "      <td>A1-MAA000560-3_10_M-1-1</td>\n",
       "      <td>mouse/vM19</td>\n",
       "      <td>s3://czb-maca/Plate_seq/3_month/results_realigned</td>\n",
       "      <td>west</td>\n",
       "    </tr>\n",
       "    <tr>\n",
       "      <th>A1-MAA000564-3_10_M-1-1</th>\n",
       "      <td>s3://czb-maca/Plate_seq/3_month/170910_A00111_...</td>\n",
       "      <td>s3://czb-maca/Plate_seq/3_month/170910_A00111_...</td>\n",
       "      <td>A1-MAA000564-3_10_M-1-1</td>\n",
       "      <td>mouse/vM19</td>\n",
       "      <td>s3://czb-maca/Plate_seq/3_month/results_realigned</td>\n",
       "      <td>west</td>\n",
       "    </tr>\n",
       "  </tbody>\n",
       "</table>\n",
       "</div>"
      ],
      "text/plain": [
       "                                                                     read1  \\\n",
       "id                                                                           \n",
       "A1-MAA000398-3_9_M-1-1   s3://czb-maca/Plate_seq/3_month/170910_A00111_...   \n",
       "A1-MAA000409-3_10_M-1-1  s3://czb-maca/Plate_seq/3_month/170910_A00111_...   \n",
       "A1-MAA000487-3_10_M-1-1  s3://czb-maca/Plate_seq/3_month/170910_A00111_...   \n",
       "A1-MAA000560-3_10_M-1-1  s3://czb-maca/Plate_seq/3_month/170910_A00111_...   \n",
       "A1-MAA000564-3_10_M-1-1  s3://czb-maca/Plate_seq/3_month/170910_A00111_...   \n",
       "\n",
       "                                                                     read2  \\\n",
       "id                                                                           \n",
       "A1-MAA000398-3_9_M-1-1   s3://czb-maca/Plate_seq/3_month/170910_A00111_...   \n",
       "A1-MAA000409-3_10_M-1-1  s3://czb-maca/Plate_seq/3_month/170910_A00111_...   \n",
       "A1-MAA000487-3_10_M-1-1  s3://czb-maca/Plate_seq/3_month/170910_A00111_...   \n",
       "A1-MAA000560-3_10_M-1-1  s3://czb-maca/Plate_seq/3_month/170910_A00111_...   \n",
       "A1-MAA000564-3_10_M-1-1  s3://czb-maca/Plate_seq/3_month/170910_A00111_...   \n",
       "\n",
       "                                            name      genome  \\\n",
       "id                                                             \n",
       "A1-MAA000398-3_9_M-1-1    A1-MAA000398-3_9_M-1-1  mouse/vM19   \n",
       "A1-MAA000409-3_10_M-1-1  A1-MAA000409-3_10_M-1-1  mouse/vM19   \n",
       "A1-MAA000487-3_10_M-1-1  A1-MAA000487-3_10_M-1-1  mouse/vM19   \n",
       "A1-MAA000560-3_10_M-1-1  A1-MAA000560-3_10_M-1-1  mouse/vM19   \n",
       "A1-MAA000564-3_10_M-1-1  A1-MAA000564-3_10_M-1-1  mouse/vM19   \n",
       "\n",
       "                                                                    output  \\\n",
       "id                                                                           \n",
       "A1-MAA000398-3_9_M-1-1   s3://czb-maca/Plate_seq/3_month/results_realigned   \n",
       "A1-MAA000409-3_10_M-1-1  s3://czb-maca/Plate_seq/3_month/results_realigned   \n",
       "A1-MAA000487-3_10_M-1-1  s3://czb-maca/Plate_seq/3_month/results_realigned   \n",
       "A1-MAA000560-3_10_M-1-1  s3://czb-maca/Plate_seq/3_month/results_realigned   \n",
       "A1-MAA000564-3_10_M-1-1  s3://czb-maca/Plate_seq/3_month/results_realigned   \n",
       "\n",
       "                        region  \n",
       "id                              \n",
       "A1-MAA000398-3_9_M-1-1    west  \n",
       "A1-MAA000409-3_10_M-1-1   west  \n",
       "A1-MAA000487-3_10_M-1-1   west  \n",
       "A1-MAA000560-3_10_M-1-1   west  \n",
       "A1-MAA000564-3_10_M-1-1   west  "
      ]
     },
     "execution_count": 2,
     "metadata": {},
     "output_type": "execute_result"
    }
   ],
   "source": [
    "import pandas as pd\n",
    "\n",
    "samples = pd.read_csv(\"/Users/shayan/reflow-batches/rnaseq/mus/test_run_TM/samples.csv\", index_col=0)\n",
    "print(samples.shape)\n",
    "samples.head()"
   ]
  },
  {
   "cell_type": "code",
   "execution_count": 3,
   "metadata": {},
   "outputs": [
    {
     "data": {
      "text/plain": [
       "<pandas.core.groupby.groupby.DataFrameGroupBy object at 0x109da7588>"
      ]
     },
     "execution_count": 3,
     "metadata": {},
     "output_type": "execute_result"
    }
   ],
   "source": [
    "samples.groupby('name')"
   ]
  },
  {
   "cell_type": "code",
   "execution_count": 4,
   "metadata": {},
   "outputs": [
    {
     "data": {
      "text/plain": [
       "8832"
      ]
     },
     "execution_count": 4,
     "metadata": {},
     "output_type": "execute_result"
    }
   ],
   "source": [
    "len(samples.groupby('name'))"
   ]
  },
  {
   "cell_type": "code",
   "execution_count": 5,
   "metadata": {},
   "outputs": [],
   "source": [
    "# for name, df in samples.groupby('name'):\n",
    "#     print('---')\n",
    "#     print(f'name: {name}, df.shape: {df.shape}')\n",
    "#     print(df.read1)"
   ]
  },
  {
   "cell_type": "code",
   "execution_count": 6,
   "metadata": {},
   "outputs": [
    {
     "name": "stdout",
     "output_type": "stream",
     "text": [
      "---\n",
      "i: 0, name: A1-MAA000398-3_9_M-1-1, df.shape: (2, 6)\n",
      "                                                                    read1  \\\n",
      "id                                                                          \n",
      "A1-MAA000398-3_9_M-1-1  s3://czb-maca/Plate_seq/3_month/170910_A00111_...   \n",
      "A1-MAA000398-3_9_M-1-1  s3://czb-maca/Plate_seq/3_month/170910_A00111_...   \n",
      "\n",
      "                                                                    read2  \\\n",
      "id                                                                          \n",
      "A1-MAA000398-3_9_M-1-1  s3://czb-maca/Plate_seq/3_month/170910_A00111_...   \n",
      "A1-MAA000398-3_9_M-1-1  s3://czb-maca/Plate_seq/3_month/170910_A00111_...   \n",
      "\n",
      "                                          name      genome  \\\n",
      "id                                                           \n",
      "A1-MAA000398-3_9_M-1-1  A1-MAA000398-3_9_M-1-1  mouse/vM19   \n",
      "A1-MAA000398-3_9_M-1-1  A1-MAA000398-3_9_M-1-1  mouse/vM19   \n",
      "\n",
      "                                                                   output  \\\n",
      "id                                                                          \n",
      "A1-MAA000398-3_9_M-1-1  s3://czb-maca/Plate_seq/3_month/results_realigned   \n",
      "A1-MAA000398-3_9_M-1-1  s3://czb-maca/Plate_seq/3_month/results_realigned   \n",
      "\n",
      "                       region  \n",
      "id                             \n",
      "A1-MAA000398-3_9_M-1-1   west  \n",
      "A1-MAA000398-3_9_M-1-1   west  \n",
      "---\n",
      "i: 1, name: A1-MAA000409-3_10_M-1-1, df.shape: (2, 6)\n",
      "                                                                     read1  \\\n",
      "id                                                                           \n",
      "A1-MAA000409-3_10_M-1-1  s3://czb-maca/Plate_seq/3_month/170910_A00111_...   \n",
      "A1-MAA000409-3_10_M-1-1  s3://czb-maca/Plate_seq/3_month/170910_A00111_...   \n",
      "\n",
      "                                                                     read2  \\\n",
      "id                                                                           \n",
      "A1-MAA000409-3_10_M-1-1  s3://czb-maca/Plate_seq/3_month/170910_A00111_...   \n",
      "A1-MAA000409-3_10_M-1-1  s3://czb-maca/Plate_seq/3_month/170910_A00111_...   \n",
      "\n",
      "                                            name      genome  \\\n",
      "id                                                             \n",
      "A1-MAA000409-3_10_M-1-1  A1-MAA000409-3_10_M-1-1  mouse/vM19   \n",
      "A1-MAA000409-3_10_M-1-1  A1-MAA000409-3_10_M-1-1  mouse/vM19   \n",
      "\n",
      "                                                                    output  \\\n",
      "id                                                                           \n",
      "A1-MAA000409-3_10_M-1-1  s3://czb-maca/Plate_seq/3_month/results_realigned   \n",
      "A1-MAA000409-3_10_M-1-1  s3://czb-maca/Plate_seq/3_month/results_realigned   \n",
      "\n",
      "                        region  \n",
      "id                              \n",
      "A1-MAA000409-3_10_M-1-1   west  \n",
      "A1-MAA000409-3_10_M-1-1   west  \n"
     ]
    }
   ],
   "source": [
    "for i, (name, df) in zip(range(2), samples.groupby('name')):\n",
    "    print('---')\n",
    "    print(f'i: {i}, name: {name}, df.shape: {df.shape}')\n",
    "    print(df)"
   ]
  },
  {
   "cell_type": "code",
   "execution_count": 7,
   "metadata": {},
   "outputs": [
    {
     "name": "stdout",
     "output_type": "stream",
     "text": [
      "---\n",
      "i: 0, name: A1-MAA000398-3_9_M-1-1, df.shape: (2, 6)\n",
      "s3://czb-maca/Plate_seq/3_month/170910_A00111_0053_BH2HGKDMXX/fastqs/A1-MAA000398-3_9_M-1-1_R1_001.fastq.gz|s3://czb-maca/Plate_seq/3_month/170910_A00111_0054_AH2HGWDMXX/fastqs/A1-MAA000398-3_9_M-1-1_R1_001.fastq.gz\n",
      "s3://czb-maca/Plate_seq/3_month/170910_A00111_0053_BH2HGKDMXX/fastqs/A1-MAA000398-3_9_M-1-1_R2_001.fastq.gz|s3://czb-maca/Plate_seq/3_month/170910_A00111_0054_AH2HGWDMXX/fastqs/A1-MAA000398-3_9_M-1-1_R2_001.fastq.gz\n",
      "---\n",
      "i: 1, name: A1-MAA000409-3_10_M-1-1, df.shape: (2, 6)\n",
      "s3://czb-maca/Plate_seq/3_month/170910_A00111_0053_BH2HGKDMXX/fastqs/A1-MAA000409-3_10_M-1-1_R1_001.fastq.gz|s3://czb-maca/Plate_seq/3_month/170910_A00111_0054_AH2HGWDMXX/fastqs/A1-MAA000409-3_10_M-1-1_R1_001.fastq.gz\n",
      "s3://czb-maca/Plate_seq/3_month/170910_A00111_0053_BH2HGKDMXX/fastqs/A1-MAA000409-3_10_M-1-1_R2_001.fastq.gz|s3://czb-maca/Plate_seq/3_month/170910_A00111_0054_AH2HGWDMXX/fastqs/A1-MAA000409-3_10_M-1-1_R2_001.fastq.gz\n"
     ]
    }
   ],
   "source": [
    "for i, (name, df) in zip(range(2), samples.groupby('name')):\n",
    "    print('---')\n",
    "    print(f'i: {i}, name: {name}, df.shape: {df.shape}')\n",
    "    read1 = '|'.join(df.read1)\n",
    "    print(read1)\n",
    "    read2 = '|'.join(df.read2)\n",
    "    print(read2)"
   ]
  },
  {
   "cell_type": "code",
   "execution_count": 8,
   "metadata": {},
   "outputs": [
    {
     "name": "stdout",
     "output_type": "stream",
     "text": [
      "---\n",
      "i: 0, name: A1-MAA000398-3_9_M-1-1, df.shape: (2, 6)\n",
      "read_col: read1\n",
      "\ts3://czb-maca/Plate_seq/3_month/170910_A00111_0053_BH2HGKDMXX/fastqs/A1-MAA000398-3_9_M-1-1_R1_001.fastq.gz|s3://czb-maca/Plate_seq/3_month/170910_A00111_0054_AH2HGWDMXX/fastqs/A1-MAA000398-3_9_M-1-1_R1_001.fastq.gz\n",
      "read_col: read2\n",
      "\ts3://czb-maca/Plate_seq/3_month/170910_A00111_0053_BH2HGKDMXX/fastqs/A1-MAA000398-3_9_M-1-1_R2_001.fastq.gz|s3://czb-maca/Plate_seq/3_month/170910_A00111_0054_AH2HGWDMXX/fastqs/A1-MAA000398-3_9_M-1-1_R2_001.fastq.gz\n",
      "---\n",
      "i: 1, name: A1-MAA000409-3_10_M-1-1, df.shape: (2, 6)\n",
      "read_col: read1\n",
      "\ts3://czb-maca/Plate_seq/3_month/170910_A00111_0053_BH2HGKDMXX/fastqs/A1-MAA000409-3_10_M-1-1_R1_001.fastq.gz|s3://czb-maca/Plate_seq/3_month/170910_A00111_0054_AH2HGWDMXX/fastqs/A1-MAA000409-3_10_M-1-1_R1_001.fastq.gz\n",
      "read_col: read2\n",
      "\ts3://czb-maca/Plate_seq/3_month/170910_A00111_0053_BH2HGKDMXX/fastqs/A1-MAA000409-3_10_M-1-1_R2_001.fastq.gz|s3://czb-maca/Plate_seq/3_month/170910_A00111_0054_AH2HGWDMXX/fastqs/A1-MAA000409-3_10_M-1-1_R2_001.fastq.gz\n"
     ]
    }
   ],
   "source": [
    "# Columns whose contents we want to join\n",
    "read_cols = 'read1', 'read2'\n",
    "\n",
    "for i, (name, df) in zip(range(2), samples.groupby('name')):\n",
    "    print('---')\n",
    "    print(f'i: {i}, name: {name}, df.shape: {df.shape}')\n",
    "    for read_col in read_cols:\n",
    "        joined_reads = '|'.join(df[read_col])\n",
    "        print(f'read_col: {read_col}')\n",
    "        print(f'\\t{joined_reads}')"
   ]
  },
  {
   "cell_type": "markdown",
   "metadata": {},
   "source": [
    "Now we eant to check all the remaining columns that they're the same across all samples"
   ]
  },
  {
   "cell_type": "code",
   "execution_count": 10,
   "metadata": {},
   "outputs": [
    {
     "name": "stdout",
     "output_type": "stream",
     "text": [
      "---\n",
      "i: 0, name: A1-MAA000398-3_9_M-1-1, df.shape: (2, 6)\n",
      "col: read1\n",
      "\ts3://czb-maca/Plate_seq/3_month/170910_A00111_0053_BH2HGKDMXX/fastqs/A1-MAA000398-3_9_M-1-1_R1_001.fastq.gz|s3://czb-maca/Plate_seq/3_month/170910_A00111_0054_AH2HGWDMXX/fastqs/A1-MAA000398-3_9_M-1-1_R1_001.fastq.gz\n",
      "col: read2\n",
      "\ts3://czb-maca/Plate_seq/3_month/170910_A00111_0053_BH2HGKDMXX/fastqs/A1-MAA000398-3_9_M-1-1_R2_001.fastq.gz|s3://czb-maca/Plate_seq/3_month/170910_A00111_0054_AH2HGWDMXX/fastqs/A1-MAA000398-3_9_M-1-1_R2_001.fastq.gz\n",
      "col: name\n",
      "\tAll values in the column 'name' are equal. yay!\n",
      "col: genome\n",
      "\tAll values in the column 'genome' are equal. yay!\n",
      "col: output\n",
      "\tAll values in the column 'output' are equal. yay!\n",
      "col: region\n",
      "\tAll values in the column 'region' are equal. yay!\n",
      "---\n",
      "i: 1, name: A1-MAA000409-3_10_M-1-1, df.shape: (2, 6)\n",
      "col: read1\n",
      "\ts3://czb-maca/Plate_seq/3_month/170910_A00111_0053_BH2HGKDMXX/fastqs/A1-MAA000409-3_10_M-1-1_R1_001.fastq.gz|s3://czb-maca/Plate_seq/3_month/170910_A00111_0054_AH2HGWDMXX/fastqs/A1-MAA000409-3_10_M-1-1_R1_001.fastq.gz\n",
      "col: read2\n",
      "\ts3://czb-maca/Plate_seq/3_month/170910_A00111_0053_BH2HGKDMXX/fastqs/A1-MAA000409-3_10_M-1-1_R2_001.fastq.gz|s3://czb-maca/Plate_seq/3_month/170910_A00111_0054_AH2HGWDMXX/fastqs/A1-MAA000409-3_10_M-1-1_R2_001.fastq.gz\n",
      "col: name\n",
      "\tAll values in the column 'name' are equal. yay!\n",
      "col: genome\n",
      "\tAll values in the column 'genome' are equal. yay!\n",
      "col: output\n",
      "\tAll values in the column 'output' are equal. yay!\n",
      "col: region\n",
      "\tAll values in the column 'region' are equal. yay!\n"
     ]
    }
   ],
   "source": [
    "# Columns whose contents we want to join\n",
    "read_cols = 'read1', 'read2'\n",
    "\n",
    "for i, (name, df) in zip(range(2), samples.groupby('name')):\n",
    "    print('---')\n",
    "    print(f'i: {i}, name: {name}, df.shape: {df.shape}')\n",
    "    for col in df:\n",
    "        print(f'col: {col}')\n",
    "        if col in read_cols:\n",
    "            joined_reads = '|'.join(df[col])\n",
    "            print(f'\\t{joined_reads}')\n",
    "        else:\n",
    "            assert len(df[col].unique()) == 1\n",
    "            print(f\"\\tAll values in the column '{col}' are equal. yay!\")"
   ]
  },
  {
   "cell_type": "code",
   "execution_count": 12,
   "metadata": {},
   "outputs": [],
   "source": [
    "pd.options.display.max_colwidth = 1000"
   ]
  },
  {
   "cell_type": "code",
   "execution_count": 13,
   "metadata": {
    "scrolled": true
   },
   "outputs": [
    {
     "name": "stdout",
     "output_type": "stream",
     "text": [
      "(8832, 6)\n"
     ]
    },
    {
     "data": {
      "text/html": [
       "<div>\n",
       "<style scoped>\n",
       "    .dataframe tbody tr th:only-of-type {\n",
       "        vertical-align: middle;\n",
       "    }\n",
       "\n",
       "    .dataframe tbody tr th {\n",
       "        vertical-align: top;\n",
       "    }\n",
       "\n",
       "    .dataframe thead th {\n",
       "        text-align: right;\n",
       "    }\n",
       "</style>\n",
       "<table border=\"1\" class=\"dataframe\">\n",
       "  <thead>\n",
       "    <tr style=\"text-align: right;\">\n",
       "      <th></th>\n",
       "      <th>read1</th>\n",
       "      <th>read2</th>\n",
       "      <th>name</th>\n",
       "      <th>genome</th>\n",
       "      <th>output</th>\n",
       "      <th>region</th>\n",
       "    </tr>\n",
       "    <tr>\n",
       "      <th>name</th>\n",
       "      <th></th>\n",
       "      <th></th>\n",
       "      <th></th>\n",
       "      <th></th>\n",
       "      <th></th>\n",
       "      <th></th>\n",
       "    </tr>\n",
       "  </thead>\n",
       "  <tbody>\n",
       "    <tr>\n",
       "      <th>A1-MAA000398-3_9_M-1-1</th>\n",
       "      <td>s3://czb-maca/Plate_seq/3_month/170910_A00111_0053_BH2HGKDMXX/fastqs/A1-MAA000398-3_9_M-1-1_R1_001.fastq.gz|s3://czb-maca/Plate_seq/3_month/170910_A00111_0054_AH2HGWDMXX/fastqs/A1-MAA000398-3_9_M-1-1_R1_001.fastq.gz</td>\n",
       "      <td>s3://czb-maca/Plate_seq/3_month/170910_A00111_0053_BH2HGKDMXX/fastqs/A1-MAA000398-3_9_M-1-1_R2_001.fastq.gz|s3://czb-maca/Plate_seq/3_month/170910_A00111_0054_AH2HGWDMXX/fastqs/A1-MAA000398-3_9_M-1-1_R2_001.fastq.gz</td>\n",
       "      <td>A1-MAA000398-3_9_M-1-1</td>\n",
       "      <td>mouse/vM19</td>\n",
       "      <td>s3://czb-maca/Plate_seq/3_month/results_realigned</td>\n",
       "      <td>west</td>\n",
       "    </tr>\n",
       "    <tr>\n",
       "      <th>A1-MAA000409-3_10_M-1-1</th>\n",
       "      <td>s3://czb-maca/Plate_seq/3_month/170910_A00111_0053_BH2HGKDMXX/fastqs/A1-MAA000409-3_10_M-1-1_R1_001.fastq.gz|s3://czb-maca/Plate_seq/3_month/170910_A00111_0054_AH2HGWDMXX/fastqs/A1-MAA000409-3_10_M-1-1_R1_001.fastq.gz</td>\n",
       "      <td>s3://czb-maca/Plate_seq/3_month/170910_A00111_0053_BH2HGKDMXX/fastqs/A1-MAA000409-3_10_M-1-1_R2_001.fastq.gz|s3://czb-maca/Plate_seq/3_month/170910_A00111_0054_AH2HGWDMXX/fastqs/A1-MAA000409-3_10_M-1-1_R2_001.fastq.gz</td>\n",
       "      <td>A1-MAA000409-3_10_M-1-1</td>\n",
       "      <td>mouse/vM19</td>\n",
       "      <td>s3://czb-maca/Plate_seq/3_month/results_realigned</td>\n",
       "      <td>west</td>\n",
       "    </tr>\n",
       "    <tr>\n",
       "      <th>A1-MAA000487-3_10_M-1-1</th>\n",
       "      <td>s3://czb-maca/Plate_seq/3_month/170910_A00111_0053_BH2HGKDMXX/fastqs/A1-MAA000487-3_10_M-1-1_R1_001.fastq.gz|s3://czb-maca/Plate_seq/3_month/170910_A00111_0054_AH2HGWDMXX/fastqs/A1-MAA000487-3_10_M-1-1_R1_001.fastq.gz</td>\n",
       "      <td>s3://czb-maca/Plate_seq/3_month/170910_A00111_0053_BH2HGKDMXX/fastqs/A1-MAA000487-3_10_M-1-1_R2_001.fastq.gz|s3://czb-maca/Plate_seq/3_month/170910_A00111_0054_AH2HGWDMXX/fastqs/A1-MAA000487-3_10_M-1-1_R2_001.fastq.gz</td>\n",
       "      <td>A1-MAA000487-3_10_M-1-1</td>\n",
       "      <td>mouse/vM19</td>\n",
       "      <td>s3://czb-maca/Plate_seq/3_month/results_realigned</td>\n",
       "      <td>west</td>\n",
       "    </tr>\n",
       "    <tr>\n",
       "      <th>A1-MAA000560-3_10_M-1-1</th>\n",
       "      <td>s3://czb-maca/Plate_seq/3_month/170910_A00111_0053_BH2HGKDMXX/fastqs/A1-MAA000560-3_10_M-1-1_R1_001.fastq.gz|s3://czb-maca/Plate_seq/3_month/170910_A00111_0054_AH2HGWDMXX/fastqs/A1-MAA000560-3_10_M-1-1_R1_001.fastq.gz</td>\n",
       "      <td>s3://czb-maca/Plate_seq/3_month/170910_A00111_0053_BH2HGKDMXX/fastqs/A1-MAA000560-3_10_M-1-1_R2_001.fastq.gz|s3://czb-maca/Plate_seq/3_month/170910_A00111_0054_AH2HGWDMXX/fastqs/A1-MAA000560-3_10_M-1-1_R2_001.fastq.gz</td>\n",
       "      <td>A1-MAA000560-3_10_M-1-1</td>\n",
       "      <td>mouse/vM19</td>\n",
       "      <td>s3://czb-maca/Plate_seq/3_month/results_realigned</td>\n",
       "      <td>west</td>\n",
       "    </tr>\n",
       "    <tr>\n",
       "      <th>A1-MAA000564-3_10_M-1-1</th>\n",
       "      <td>s3://czb-maca/Plate_seq/3_month/170910_A00111_0053_BH2HGKDMXX/fastqs/A1-MAA000564-3_10_M-1-1_R1_001.fastq.gz|s3://czb-maca/Plate_seq/3_month/170910_A00111_0054_AH2HGWDMXX/fastqs/A1-MAA000564-3_10_M-1-1_R1_001.fastq.gz</td>\n",
       "      <td>s3://czb-maca/Plate_seq/3_month/170910_A00111_0053_BH2HGKDMXX/fastqs/A1-MAA000564-3_10_M-1-1_R2_001.fastq.gz|s3://czb-maca/Plate_seq/3_month/170910_A00111_0054_AH2HGWDMXX/fastqs/A1-MAA000564-3_10_M-1-1_R2_001.fastq.gz</td>\n",
       "      <td>A1-MAA000564-3_10_M-1-1</td>\n",
       "      <td>mouse/vM19</td>\n",
       "      <td>s3://czb-maca/Plate_seq/3_month/results_realigned</td>\n",
       "      <td>west</td>\n",
       "    </tr>\n",
       "  </tbody>\n",
       "</table>\n",
       "</div>"
      ],
      "text/plain": [
       "                                                                                                                                                                                                                                             read1  \\\n",
       "name                                                                                                                                                                                                                                                 \n",
       "A1-MAA000398-3_9_M-1-1     s3://czb-maca/Plate_seq/3_month/170910_A00111_0053_BH2HGKDMXX/fastqs/A1-MAA000398-3_9_M-1-1_R1_001.fastq.gz|s3://czb-maca/Plate_seq/3_month/170910_A00111_0054_AH2HGWDMXX/fastqs/A1-MAA000398-3_9_M-1-1_R1_001.fastq.gz   \n",
       "A1-MAA000409-3_10_M-1-1  s3://czb-maca/Plate_seq/3_month/170910_A00111_0053_BH2HGKDMXX/fastqs/A1-MAA000409-3_10_M-1-1_R1_001.fastq.gz|s3://czb-maca/Plate_seq/3_month/170910_A00111_0054_AH2HGWDMXX/fastqs/A1-MAA000409-3_10_M-1-1_R1_001.fastq.gz   \n",
       "A1-MAA000487-3_10_M-1-1  s3://czb-maca/Plate_seq/3_month/170910_A00111_0053_BH2HGKDMXX/fastqs/A1-MAA000487-3_10_M-1-1_R1_001.fastq.gz|s3://czb-maca/Plate_seq/3_month/170910_A00111_0054_AH2HGWDMXX/fastqs/A1-MAA000487-3_10_M-1-1_R1_001.fastq.gz   \n",
       "A1-MAA000560-3_10_M-1-1  s3://czb-maca/Plate_seq/3_month/170910_A00111_0053_BH2HGKDMXX/fastqs/A1-MAA000560-3_10_M-1-1_R1_001.fastq.gz|s3://czb-maca/Plate_seq/3_month/170910_A00111_0054_AH2HGWDMXX/fastqs/A1-MAA000560-3_10_M-1-1_R1_001.fastq.gz   \n",
       "A1-MAA000564-3_10_M-1-1  s3://czb-maca/Plate_seq/3_month/170910_A00111_0053_BH2HGKDMXX/fastqs/A1-MAA000564-3_10_M-1-1_R1_001.fastq.gz|s3://czb-maca/Plate_seq/3_month/170910_A00111_0054_AH2HGWDMXX/fastqs/A1-MAA000564-3_10_M-1-1_R1_001.fastq.gz   \n",
       "\n",
       "                                                                                                                                                                                                                                             read2  \\\n",
       "name                                                                                                                                                                                                                                                 \n",
       "A1-MAA000398-3_9_M-1-1     s3://czb-maca/Plate_seq/3_month/170910_A00111_0053_BH2HGKDMXX/fastqs/A1-MAA000398-3_9_M-1-1_R2_001.fastq.gz|s3://czb-maca/Plate_seq/3_month/170910_A00111_0054_AH2HGWDMXX/fastqs/A1-MAA000398-3_9_M-1-1_R2_001.fastq.gz   \n",
       "A1-MAA000409-3_10_M-1-1  s3://czb-maca/Plate_seq/3_month/170910_A00111_0053_BH2HGKDMXX/fastqs/A1-MAA000409-3_10_M-1-1_R2_001.fastq.gz|s3://czb-maca/Plate_seq/3_month/170910_A00111_0054_AH2HGWDMXX/fastqs/A1-MAA000409-3_10_M-1-1_R2_001.fastq.gz   \n",
       "A1-MAA000487-3_10_M-1-1  s3://czb-maca/Plate_seq/3_month/170910_A00111_0053_BH2HGKDMXX/fastqs/A1-MAA000487-3_10_M-1-1_R2_001.fastq.gz|s3://czb-maca/Plate_seq/3_month/170910_A00111_0054_AH2HGWDMXX/fastqs/A1-MAA000487-3_10_M-1-1_R2_001.fastq.gz   \n",
       "A1-MAA000560-3_10_M-1-1  s3://czb-maca/Plate_seq/3_month/170910_A00111_0053_BH2HGKDMXX/fastqs/A1-MAA000560-3_10_M-1-1_R2_001.fastq.gz|s3://czb-maca/Plate_seq/3_month/170910_A00111_0054_AH2HGWDMXX/fastqs/A1-MAA000560-3_10_M-1-1_R2_001.fastq.gz   \n",
       "A1-MAA000564-3_10_M-1-1  s3://czb-maca/Plate_seq/3_month/170910_A00111_0053_BH2HGKDMXX/fastqs/A1-MAA000564-3_10_M-1-1_R2_001.fastq.gz|s3://czb-maca/Plate_seq/3_month/170910_A00111_0054_AH2HGWDMXX/fastqs/A1-MAA000564-3_10_M-1-1_R2_001.fastq.gz   \n",
       "\n",
       "                                            name      genome  \\\n",
       "name                                                           \n",
       "A1-MAA000398-3_9_M-1-1    A1-MAA000398-3_9_M-1-1  mouse/vM19   \n",
       "A1-MAA000409-3_10_M-1-1  A1-MAA000409-3_10_M-1-1  mouse/vM19   \n",
       "A1-MAA000487-3_10_M-1-1  A1-MAA000487-3_10_M-1-1  mouse/vM19   \n",
       "A1-MAA000560-3_10_M-1-1  A1-MAA000560-3_10_M-1-1  mouse/vM19   \n",
       "A1-MAA000564-3_10_M-1-1  A1-MAA000564-3_10_M-1-1  mouse/vM19   \n",
       "\n",
       "                                                                    output  \\\n",
       "name                                                                         \n",
       "A1-MAA000398-3_9_M-1-1   s3://czb-maca/Plate_seq/3_month/results_realigned   \n",
       "A1-MAA000409-3_10_M-1-1  s3://czb-maca/Plate_seq/3_month/results_realigned   \n",
       "A1-MAA000487-3_10_M-1-1  s3://czb-maca/Plate_seq/3_month/results_realigned   \n",
       "A1-MAA000560-3_10_M-1-1  s3://czb-maca/Plate_seq/3_month/results_realigned   \n",
       "A1-MAA000564-3_10_M-1-1  s3://czb-maca/Plate_seq/3_month/results_realigned   \n",
       "\n",
       "                        region  \n",
       "name                            \n",
       "A1-MAA000398-3_9_M-1-1    west  \n",
       "A1-MAA000409-3_10_M-1-1   west  \n",
       "A1-MAA000487-3_10_M-1-1   west  \n",
       "A1-MAA000560-3_10_M-1-1   west  \n",
       "A1-MAA000564-3_10_M-1-1   west  "
      ]
     },
     "execution_count": 13,
     "metadata": {},
     "output_type": "execute_result"
    }
   ],
   "source": [
    "# Columns whose contents we want to join\n",
    "READ_COLS = 'read1', 'read2'\n",
    "\n",
    "def merge_split_runs(df, read_cols=READ_COLS):\n",
    "    sample = pd.Series(index=df.columns)\n",
    "#     print('---')\n",
    "#     print(f'i: {i}, name: {name}, df.shape: {df.shape}')\n",
    "    for col in df:\n",
    "#         print(f'col: {col}')\n",
    "        if col in read_cols:\n",
    "            joined_reads = '|'.join(df[col])\n",
    "            sample[col] = joined_reads\n",
    "#             print(f'\\t{joined_reads}')\n",
    "        else:\n",
    "            col_unique = df[col].unique()\n",
    "            assert len(col_unique) == 1\n",
    "#             print(f\"\\tAll values in the column '{col}' are equal. yay!\")\n",
    "            \n",
    "            # Take the first item in the list of length 1\n",
    "            sample[col] = col_unique[0]           \n",
    "            \n",
    "    return sample\n",
    "            \n",
    "merged = samples.groupby('name').apply(merge_split_runs)\n",
    "print(merged.shape)\n",
    "merged.head()"
   ]
  },
  {
   "cell_type": "code",
   "execution_count": null,
   "metadata": {},
   "outputs": [],
   "source": [
    "# Columns whose contents we want to join\n",
    "READ_COLS = 'read1', 'read2'\n",
    "\n",
    "def merge_split_runs(df, read_cols=READ_COLS):\n",
    "    sample = pd.Series(index=df.columns)\n",
    "#     print('---')\n",
    "#     print(f'i: {i}, name: {name}, df.shape: {df.shape}')\n",
    "    for col in df:\n",
    "#         print(f'col: {col}')\n",
    "        if col in read_cols:\n",
    "            joined_reads = '|'.join(df[col])\n",
    "            sample[col] = joined_reads\n",
    "#             print(f'\\t{joined_reads}')\n",
    "        else:\n",
    "            col_unique = df[col].unique()\n",
    "            assert len(col_unique) == 1\n",
    "#             print(f\"\\tAll values in the column '{col}' are equal. yay!\")\n",
    "            \n",
    "            # Take the first item in the list of length 1\n",
    "            sample[col] = col_unique[0]           \n",
    "            \n",
    "    return sample\n",
    "            \n",
    "merged = samples.groupby('name').apply(merge_split_runs)\n",
    "print(merged.shape)\n",
    "merged.head()"
   ]
  },
  {
   "cell_type": "code",
   "execution_count": 33,
   "metadata": {},
   "outputs": [
    {
     "data": {
      "text/plain": [
       "array(['mouse/vM19'], dtype=object)"
      ]
     },
     "execution_count": 33,
     "metadata": {},
     "output_type": "execute_result"
    }
   ],
   "source": [
    " df.genome.unique()"
   ]
  },
  {
   "cell_type": "code",
   "execution_count": 29,
   "metadata": {},
   "outputs": [
    {
     "name": "stdout",
     "output_type": "stream",
     "text": [
      "87.7 µs ± 3.12 µs per loop (mean ± std. dev. of 7 runs, 10000 loops each)\n"
     ]
    }
   ],
   "source": [
    "%timeit df.genome.unique()"
   ]
  },
  {
   "cell_type": "code",
   "execution_count": 32,
   "metadata": {},
   "outputs": [
    {
     "data": {
      "text/plain": [
       "1"
      ]
     },
     "execution_count": 32,
     "metadata": {},
     "output_type": "execute_result"
    }
   ],
   "source": [
    "df.genome.nunique()"
   ]
  },
  {
   "cell_type": "code",
   "execution_count": 31,
   "metadata": {},
   "outputs": [
    {
     "name": "stdout",
     "output_type": "stream",
     "text": [
      "127 µs ± 7.33 µs per loop (mean ± std. dev. of 7 runs, 10000 loops each)\n"
     ]
    }
   ],
   "source": [
    "%timeit df.genome.nunique()"
   ]
  },
  {
   "cell_type": "code",
   "execution_count": 35,
   "metadata": {},
   "outputs": [
    {
     "data": {
      "text/plain": [
       "1"
      ]
     },
     "execution_count": 35,
     "metadata": {},
     "output_type": "execute_result"
    }
   ],
   "source": [
    "len(df.genome.unique())"
   ]
  },
  {
   "cell_type": "code",
   "execution_count": 34,
   "metadata": {},
   "outputs": [
    {
     "name": "stdout",
     "output_type": "stream",
     "text": [
      "87.4 µs ± 3.5 µs per loop (mean ± std. dev. of 7 runs, 10000 loops each)\n"
     ]
    }
   ],
   "source": [
    "%timeit len(df.genome.unique())"
   ]
  },
  {
   "cell_type": "code",
   "execution_count": null,
   "metadata": {},
   "outputs": [],
   "source": []
  }
 ],
 "metadata": {
  "kernelspec": {
   "display_name": "Python [default]",
   "language": "python",
   "name": "python3"
  },
  "language_info": {
   "codemirror_mode": {
    "name": "ipython",
    "version": 3
   },
   "file_extension": ".py",
   "mimetype": "text/x-python",
   "name": "python",
   "nbconvert_exporter": "python",
   "pygments_lexer": "ipython3",
   "version": "3.6.5"
  }
 },
 "nbformat": 4,
 "nbformat_minor": 2
}
